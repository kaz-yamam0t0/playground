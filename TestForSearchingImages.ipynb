{
  "nbformat": 4,
  "nbformat_minor": 0,
  "metadata": {
    "colab": {
      "name": "TestForImage.ipynb",
      "provenance": [],
      "authorship_tag": "ABX9TyOxqQ0aH5KrDfLKYcVgSLTy",
      "include_colab_link": true
    },
    "kernelspec": {
      "name": "python3",
      "display_name": "Python 3"
    },
    "language_info": {
      "name": "python"
    }
  },
  "cells": [
    {
      "cell_type": "markdown",
      "metadata": {
        "id": "view-in-github",
        "colab_type": "text"
      },
      "source": [
        "<a href=\"https://colab.research.google.com/github/kaz-yamam0t0/playground/blob/main/TestForSearchingImages.ipynb\" target=\"_parent\"><img src=\"https://colab.research.google.com/assets/colab-badge.svg\" alt=\"Open In Colab\"/></a>"
      ]
    },
    {
      "cell_type": "code",
      "execution_count": null,
      "metadata": {
        "id": "qA6s0F4F4ZYt"
      },
      "outputs": [],
      "source": [
        "from google.colab import drive\n",
        "drive.mount('/content/drive')"
      ]
    },
    {
      "cell_type": "code",
      "source": [
        "# need to manually put target image files in `playground/playground01/images/`\n",
        "%cd /content/drive/MyDrive\n",
        "%mkdir -p playground/playground01/images\n",
        "%cd playground/playground01"
      ],
      "metadata": {
        "id": "38IpW1yy4c3f"
      },
      "execution_count": null,
      "outputs": []
    },
    {
      "cell_type": "code",
      "source": [
        "!pip install annoy"
      ],
      "metadata": {
        "id": "y6Rt1Jci4gdF"
      },
      "execution_count": null,
      "outputs": []
    },
    {
      "cell_type": "code",
      "source": [
        "# show one of the images\n",
        "from IPython.display import Image\n",
        "Image(\"images/image_0001.jpg\")"
      ],
      "metadata": {
        "id": "pA5bEUZO4h0I"
      },
      "execution_count": null,
      "outputs": []
    },
    {
      "cell_type": "code",
      "source": [
        "from keras.applications.vgg19 import VGG19\n",
        "from keras.models import Model\n",
        "\n",
        "base_model = VGG19(weights=\"imagenet\")\n",
        "base_model.summary()\n",
        "#print(base_model.input)\n",
        "#print(base_model.output)\n",
        "model = Model(inputs=base_model.input, outputs=base_model.get_layer(\"fc2\").output)\n",
        "print(model.input)\n",
        "print(model.output)"
      ],
      "metadata": {
        "id": "A5_9IJJN4jlU"
      },
      "execution_count": null,
      "outputs": []
    },
    {
      "cell_type": "code",
      "source": [
        "from keras.preprocessing import image\n",
        "import numpy as np\n",
        "\n",
        "img_path = \"images/image_0001.jpg\"\n",
        "img = image.load_img(img_path, target_size=(224, 224))\n",
        "input = image.img_to_array(img)\n",
        "result = model.predict(np.array([input]))\n",
        "print(\"result\", result)\n",
        "print(\"length: \", len(result[0]))"
      ],
      "metadata": {
        "id": "TkrbKUBd4lyP"
      },
      "execution_count": null,
      "outputs": []
    },
    {
      "cell_type": "code",
      "source": [
        "# training\n",
        "from annoy import AnnoyIndex\n",
        "from keras.preprocessing import image\n",
        "from keras.applications.vgg19 import preprocess_input\n",
        "\n",
        "annoy_model = AnnoyIndex(4096)\n",
        "\n",
        "for i in range (1, 1014):\n",
        "\timg_path = \"images/image_%04d.jpg\" % i\n",
        "\timg = image.load_img(img_path, target_size=(224, 224))\n",
        "\tx = image.img_to_array(img)\n",
        "\tx = np.expand_dims(x, axis=0)\n",
        "\tx = preprocess_input(x)\n",
        "\n",
        "\tfc2_features = model.predict(x)\n",
        "\tannoy_model.add_item(i, fc2_features[0])\n",
        "\n",
        "annoy_model.build(1000)\n",
        "annoy_model.save(\"image_data.ann\")"
      ],
      "metadata": {
        "id": "2o1NcqrK4n1f"
      },
      "execution_count": null,
      "outputs": []
    },
    {
      "cell_type": "code",
      "source": [
        "# test\n",
        "from IPython.display import HTML\n",
        "from base64 import b64encode\n",
        "\n",
        "from annoy import AnnoyIndex\n",
        "from keras.preprocessing import image\n",
        "from keras.applications.vgg19 import preprocess_input\n",
        "\n",
        "trained_model = AnnoyIndex(4096)\n",
        "trained_model.load(\"image_data.ann\")\n",
        "items = trained_model.get_nns_by_item(14, 3, search_k=-1, include_distances=False)\n",
        "# print(items)\n",
        "s = \"\"\n",
        "for i in items:\n",
        "\tp = \"images/image_%04d.jpg\" % i\n",
        "\tf = open(p, 'rb').read()\n",
        "\tdata_url = 'data:video/mp4;base64,' + b64encode(f).decode()\n",
        "\ts += f\"\"\"\n",
        "\t\t<h3>{p}</h3>\n",
        "\t\t<img src=\"{data_url}\">\n",
        "\t\"\"\"\n",
        "\n",
        "HTML(s)"
      ],
      "metadata": {
        "id": "gtO6kl_f4qES"
      },
      "execution_count": null,
      "outputs": []
    }
  ]
}